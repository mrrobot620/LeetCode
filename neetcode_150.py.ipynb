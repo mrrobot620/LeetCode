{
 "cells": [
  {
   "cell_type": "code",
   "id": "initial_id",
   "metadata": {
    "collapsed": true,
    "ExecuteTime": {
     "end_time": "2024-04-18T09:35:32.496841Z",
     "start_time": "2024-04-18T09:35:32.490110Z"
    }
   },
   "source": [
    "def containDuplicates(nums: list[int]) -> bool:\n",
    "    new_nums = set()\n",
    "    for num in nums:\n",
    "        if num in new_nums:\n",
    "            return True\n",
    "        new_nums.add(num)\n",
    "    return False\n",
    "        \n",
    "containDuplicates(nums=[1, 2, 3, 4, 5, 6, 7, 8, 9, 10 , 1])"
   ],
   "outputs": [
    {
     "data": {
      "text/plain": [
       "True"
      ]
     },
     "execution_count": 24,
     "metadata": {},
     "output_type": "execute_result"
    }
   ],
   "execution_count": 24
  },
  {
   "metadata": {},
   "cell_type": "markdown",
   "source": "",
   "id": "eadfd3545f34789e"
  },
  {
   "metadata": {
    "ExecuteTime": {
     "end_time": "2024-04-18T09:35:27.954062Z",
     "start_time": "2024-04-18T09:35:27.947937Z"
    }
   },
   "cell_type": "code",
   "source": [
    "# The same question but with a oneliner \n",
    "def containDuplicates2(nums: list[int]) -> bool:\n",
    "    return len(nums) != len(set(nums))\n",
    "\n",
    "containDuplicates2(nums=[1, 2, 3, 4, 5, 6, 7, 8, 9, 10])\n",
    "\n",
    "# I think I can solve this without any problem any time , this won't be a issue for me ever "
   ],
   "id": "17725461a8f1dc82",
   "outputs": [
    {
     "data": {
      "text/plain": [
       "False"
      ]
     },
     "execution_count": 23,
     "metadata": {},
     "output_type": "execute_result"
    }
   ],
   "execution_count": 23
  },
  {
   "metadata": {
    "ExecuteTime": {
     "end_time": "2024-04-18T09:39:32.532671Z",
     "start_time": "2024-04-18T09:39:32.526458Z"
    }
   },
   "cell_type": "code",
   "source": [
    "def isAnagram(str1: str, str2: str) -> bool:\n",
    "    return sorted(str1) == sorted(str2)\n",
    "\n",
    "isAnagram(str1='abc', str2='abe')\n",
    "\n",
    "# This one is kind of easy too. Don't use set here as It will fail the testcase like \"aa\" and \"a\""
   ],
   "id": "25e64f4a99ba5253",
   "outputs": [
    {
     "data": {
      "text/plain": [
       "False"
      ]
     },
     "execution_count": 30,
     "metadata": {},
     "output_type": "execute_result"
    }
   ],
   "execution_count": 30
  },
  {
   "metadata": {
    "ExecuteTime": {
     "end_time": "2024-04-18T09:46:00.459128Z",
     "start_time": "2024-04-18T09:46:00.452362Z"
    }
   },
   "cell_type": "code",
   "source": [
    "def isAnagaram2(str1: str, str2: str) -> bool:\n",
    "    def local_counter(s: str) -> dict[str, int]:\n",
    "        hashmap = {}\n",
    "        for char in s:\n",
    "            if char in hashmap:\n",
    "                hashmap[char] += 1\n",
    "            else:\n",
    "                hashmap[char] = 1\n",
    "        return hashmap\n",
    "    \n",
    "    return local_counter(str1) == local_counter(str2)\n",
    "\n",
    "isAnagaram2(str1='abc', str2='abc')\n",
    "\n",
    "# Using Hashmap is quite fun ,it's faster then the isAnagram1 and also fun."
   ],
   "id": "cfd6cd4cda7ca197",
   "outputs": [
    {
     "data": {
      "text/plain": [
       "True"
      ]
     },
     "execution_count": 35,
     "metadata": {},
     "output_type": "execute_result"
    }
   ],
   "execution_count": 35
  },
  {
   "metadata": {},
   "cell_type": "code",
   "outputs": [],
   "execution_count": null,
   "source": "",
   "id": "ddafc104ea22a89c"
  }
 ],
 "metadata": {
  "kernelspec": {
   "display_name": "Python 3",
   "language": "python",
   "name": "python3"
  },
  "language_info": {
   "codemirror_mode": {
    "name": "ipython",
    "version": 2
   },
   "file_extension": ".py",
   "mimetype": "text/x-python",
   "name": "python",
   "nbconvert_exporter": "python",
   "pygments_lexer": "ipython2",
   "version": "2.7.6"
  }
 },
 "nbformat": 4,
 "nbformat_minor": 5
}
