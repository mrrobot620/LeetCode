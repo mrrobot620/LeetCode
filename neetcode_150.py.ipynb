{
 "cells": [
  {
   "metadata": {},
   "cell_type": "markdown",
   "source": "# NeetCode 1: ContainDuplicates",
   "id": "43ed71aa4602a8d1"
  },
  {
   "metadata": {},
   "cell_type": "code",
   "outputs": [
    {
     "data": {
      "text/plain": [
       "True"
      ]
     },
     "execution_count": 24,
     "metadata": {},
     "output_type": "execute_result"
    }
   ],
   "execution_count": 24,
   "source": [
    "def containDuplicates(nums: list[int]) -> bool:\n",
    "    new_nums = set()\n",
    "    for num in nums:\n",
    "        if num in new_nums:\n",
    "            return True\n",
    "        new_nums.add(num)\n",
    "    return False\n",
    "        \n",
    "containDuplicates(nums=[1, 2, 3, 4, 5, 6, 7, 8, 9, 10 , 1])"
   ],
   "id": "initial_id"
  },
  {
   "metadata": {
    "ExecuteTime": {
     "end_time": "2024-04-18T09:35:27.954062Z",
     "start_time": "2024-04-18T09:35:27.947937Z"
    }
   },
   "cell_type": "code",
   "source": [
    "# The same question but with a oneliner \n",
    "def containDuplicates2(nums: list[int]) -> bool:\n",
    "    return len(nums) != len(set(nums))\n",
    "\n",
    "containDuplicates2(nums=[1, 2, 3, 4, 5, 6, 7, 8, 9, 10])\n",
    "\n",
    "# I think I can solve this without any problem any time , this won't be a issue for me ever "
   ],
   "id": "17725461a8f1dc82",
   "outputs": [
    {
     "data": {
      "text/plain": [
       "False"
      ]
     },
     "execution_count": 23,
     "metadata": {},
     "output_type": "execute_result"
    }
   ],
   "execution_count": 23
  },
  {
   "metadata": {},
   "cell_type": "markdown",
   "source": [
    "# NeetCode2 : Is Anagram\n",
    "- First func is oneliner which is slow . \n",
    "- Second one uses a hashmap for faster runtime"
   ],
   "id": "b494a753b1f4ae81"
  },
  {
   "metadata": {
    "ExecuteTime": {
     "end_time": "2024-04-18T09:39:32.532671Z",
     "start_time": "2024-04-18T09:39:32.526458Z"
    }
   },
   "cell_type": "code",
   "source": [
    "def isAnagram(str1: str, str2: str) -> bool:\n",
    "    return sorted(str1) == sorted(str2)\n",
    "\n",
    "isAnagram(str1='abc', str2='abe')\n",
    "\n",
    "# This one is kind of easy too. Don't use set here as It will fail the testcase like \"aa\" and \"a\""
   ],
   "id": "25e64f4a99ba5253",
   "outputs": [
    {
     "data": {
      "text/plain": [
       "False"
      ]
     },
     "execution_count": 30,
     "metadata": {},
     "output_type": "execute_result"
    }
   ],
   "execution_count": 30
  },
  {
   "metadata": {
    "ExecuteTime": {
     "end_time": "2024-04-18T09:46:00.459128Z",
     "start_time": "2024-04-18T09:46:00.452362Z"
    }
   },
   "cell_type": "code",
   "source": [
    "def isAnagaram2(str1: str, str2: str) -> bool:\n",
    "    def local_counter(s: str) -> dict[str, int]:\n",
    "        hashmap = {}\n",
    "        for char in s:\n",
    "            if char in hashmap:\n",
    "                hashmap[char] += 1\n",
    "            else:\n",
    "                hashmap[char] = 1\n",
    "        return hashmap\n",
    "    \n",
    "    return local_counter(str1) == local_counter(str2)\n",
    "\n",
    "isAnagaram2(str1='abc', str2='abc')\n",
    "\n",
    "# Using Hashmap is quite fun ,it's faster then the isAnagram1 and also fun."
   ],
   "id": "cfd6cd4cda7ca197",
   "outputs": [
    {
     "data": {
      "text/plain": [
       "True"
      ]
     },
     "execution_count": 35,
     "metadata": {},
     "output_type": "execute_result"
    }
   ],
   "execution_count": 35
  },
  {
   "metadata": {},
   "cell_type": "markdown",
   "source": [
    "# NeetCode 3: Two Sum\n",
    "- First function uses hashmap and is one of the best method to solve this \n",
    "- Second one uses bruteforce method too solve this . \n"
   ],
   "id": "cf8c6123befd9e8"
  },
  {
   "metadata": {
    "ExecuteTime": {
     "end_time": "2024-04-18T10:04:11.433809Z",
     "start_time": "2024-04-18T10:04:11.426320Z"
    }
   },
   "cell_type": "code",
   "source": [
    "def twoSum(nums: list[int], target: int) -> list[int]:\n",
    "    map = {}\n",
    "    \n",
    "    for i in range(len(nums)):\n",
    "        map[nums[i]] = i\n",
    "    \n",
    "    print(map)\n",
    "    for i in range(len(nums)):\n",
    "        if target - nums[i] in map and i != map[target - nums[i]]:\n",
    "            return [i , map[target - nums[i]]]\n",
    "    \n",
    "twoSum(nums=[3 , 2 , 4], target=6)\n",
    "\n",
    "# Two sum is also easy for me and I don't think I will be having any problem in this "
   ],
   "id": "ddafc104ea22a89c",
   "outputs": [
    {
     "name": "stdout",
     "output_type": "stream",
     "text": [
      "{3: 0, 2: 1, 4: 2}\n"
     ]
    },
    {
     "data": {
      "text/plain": [
       "[1, 2]"
      ]
     },
     "execution_count": 42,
     "metadata": {},
     "output_type": "execute_result"
    }
   ],
   "execution_count": 42
  },
  {
   "metadata": {
    "ExecuteTime": {
     "end_time": "2024-04-18T10:07:30.667565Z",
     "start_time": "2024-04-18T10:07:30.661029Z"
    }
   },
   "cell_type": "code",
   "source": [
    "# Lets try the bruteforce method too\n",
    "\n",
    "def twoSum2(nums: list[int], target: int) -> list[int]:\n",
    "    for i in range(len(nums)):\n",
    "        for j in range(i + 1, len(nums)):\n",
    "            if nums[i] + nums[j] == target:\n",
    "                return [i , j]\n",
    "            \n",
    "twoSum2(nums=[3 , 2 , 4], target=6)\n",
    "\n",
    "# This one uses Two Pointer Bruteforce Method"
   ],
   "id": "10c56345e71fc902",
   "outputs": [
    {
     "data": {
      "text/plain": [
       "[1, 2]"
      ]
     },
     "execution_count": 44,
     "metadata": {},
     "output_type": "execute_result"
    }
   ],
   "execution_count": 44
  },
  {
   "metadata": {},
   "cell_type": "markdown",
   "source": [
    "# NeetCode 4: Group Anagrams\n",
    "- Solved using hashmap , and it's the only method which I know . Only this to remember in this [str] should be saved in list instead of str"
   ],
   "id": "88a02b54e75f8502"
  },
  {
   "metadata": {
    "ExecuteTime": {
     "end_time": "2024-04-18T10:12:07.168071Z",
     "start_time": "2024-04-18T10:12:07.161530Z"
    }
   },
   "cell_type": "code",
   "source": [
    "def groupAnagrams(strs: list[str]) -> list[list[str]]:\n",
    "    map = {}\n",
    "    \n",
    "    for str in strs:\n",
    "        sorted_str = \"\".join(sorted(str))\n",
    "        if sorted_str in map:\n",
    "            map[sorted_str].append(str)\n",
    "        else:\n",
    "            map[sorted_str] = [str]\n",
    "    return list(map.values())\n",
    "    \n",
    "groupAnagrams(strs=[\"eat\",\"tea\",\"tan\",\"ate\",\"nat\",\"bat\"])\n",
    "\n",
    "# I know this one too , but I think the AI in Pycharm is helping me too much , But I think I got the grasp of the problem , and Back of my head I know how I am going approach this problem."
   ],
   "id": "b8b0b46da4762dd0",
   "outputs": [
    {
     "data": {
      "text/plain": [
       "[['eat', 'tea', 'ate'], ['tan', 'nat'], ['bat']]"
      ]
     },
     "execution_count": 47,
     "metadata": {},
     "output_type": "execute_result"
    }
   ],
   "execution_count": 47
  },
  {
   "metadata": {},
   "cell_type": "code",
   "outputs": [],
   "execution_count": null,
   "source": "",
   "id": "2ad99010e984074e"
  }
 ],
 "metadata": {
  "kernelspec": {
   "display_name": "Python 3",
   "language": "python",
   "name": "python3"
  },
  "language_info": {
   "codemirror_mode": {
    "name": "ipython",
    "version": 2
   },
   "file_extension": ".py",
   "mimetype": "text/x-python",
   "name": "python",
   "nbconvert_exporter": "python",
   "pygments_lexer": "ipython2",
   "version": "2.7.6"
  }
 },
 "nbformat": 4,
 "nbformat_minor": 5
}
