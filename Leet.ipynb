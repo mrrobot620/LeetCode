{
  "cells": [
    {
      "cell_type": "code",
      "execution_count": 1,
      "metadata": {
        "colab": {
          "base_uri": "https://localhost:8080/"
        },
        "id": "0qyByKSz7wFx",
        "outputId": "beef37ac-f759-4249-c163-3ab6346d3012"
      },
      "outputs": [
        {
          "name": "stdout",
          "output_type": "stream",
          "text": [
            "{1: 2, 2: 2, 3: 1, 4: 2, 5: 1}\n",
            "[(1, 2), (2, 2), (4, 2), (3, 1), (5, 1)]\n"
          ]
        },
        {
          "data": {
            "text/plain": [
              "[1, 2]"
            ]
          },
          "execution_count": 1,
          "metadata": {},
          "output_type": "execute_result"
        }
      ],
      "source": [
        "# Top K Frequent Number Solution\n",
        "\n",
        "def topKFrequent(nums, k):\n",
        "        num_map: dict[int , int] = {}\n",
        "\n",
        "        for item in nums:\n",
        "            if item in num_map:\n",
        "                num_map[item] += 1\n",
        "            else:\n",
        "                num_map[item] = 1\n",
        "        print(num_map)\n",
        "\n",
        "        sorted_nums = sorted(num_map.items(), key=lambda x: x[1], reverse=True)\n",
        "\n",
        "        print(sorted_nums)\n",
        "\n",
        "        return [item[0] for item in sorted_nums[:k]]\n",
        "\n",
        "\n",
        "topKFrequent(nums=[1, 1, 2, 2,  3, 4, 4, 5], k=2)\n",
        "\n"
      ]
    },
    {
      "cell_type": "code",
      "execution_count": null,
      "metadata": {
        "colab": {
          "base_uri": "https://localhost:8080/"
        },
        "id": "rnZgNyz8Ivbt",
        "outputId": "b5903a40-d858-47f3-cbfd-398e04f9a4ae"
      },
      "outputs": [
        {
          "name": "stdout",
          "output_type": "stream",
          "text": [
            "[3, 4, 5, 6]\n"
          ]
        }
      ],
      "source": [
        "# Intersection of two arrays\n",
        "\n",
        "def intersection(nums1: list[int], nums2: list[int]) -> list[int]:\n",
        "  new_nums1 = list(set(nums1))\n",
        "  new_nums2 = list(set(nums2))\n",
        "  temp: list[int]  = []\n",
        "\n",
        "  for item in new_nums1:\n",
        "    if item in new_nums2:\n",
        "      temp.append(item)\n",
        "    else:\n",
        "      continue\n",
        "\n",
        "\n",
        "print(intersection(nums1=[1 , 2 ,3 ,4 , 5, 6, 4 , 5 ] , nums2=[5 , 6 ,3 , 4 , 4 ,5 ,5 ]))\n"
      ]
    },
    {
      "cell_type": "code",
      "execution_count": null,
      "metadata": {
        "colab": {
          "base_uri": "https://localhost:8080/"
        },
        "id": "LyMW-Tm1Ri6l",
        "outputId": "be442df5-245d-4ac3-c489-d37eaaadc169"
      },
      "outputs": [
        {
          "name": "stdout",
          "output_type": "stream",
          "text": [
            "{3, 4, 5, 6}\n"
          ]
        }
      ],
      "source": [
        "# Better way of intersection problem\n",
        "\n",
        "def intersection(nums1: list[int], nums2: list[int]) -> list[int]:\n",
        "        return {*nums1} & {*nums2}\n",
        "\n",
        "print(intersection(nums1=[1 , 2 ,3 ,4 , 5, 6, 4 , 5 ] , nums2=[5 , 6 ,3 , 4 , 4 ,5 ,5 ]))"
      ]
    },
    {
      "cell_type": "code",
      "execution_count": null,
      "metadata": {
        "colab": {
          "base_uri": "https://localhost:8080/"
        },
        "id": "SR_bV6L-Tfw1",
        "outputId": "1a5eb56b-484a-460a-fd39-d794008dccce"
      },
      "outputs": [
        {
          "name": "stdout",
          "output_type": "stream",
          "text": [
            "[['eat', 'tea', 'ate'], ['tan', 'nat'], ['bat']]\n"
          ]
        }
      ],
      "source": [
        "# Group Anagrams\n",
        "# The Main thing is you have to keep in min\n",
        "def groupAnagrams(strs: list[str]) -> list[list[str]]:\n",
        "    anagram_dict = {}\n",
        "\n",
        "    for char in strs:\n",
        "      sorted_char = \"\".join(sorted(char))\n",
        "      if sorted_char in anagram_dict:\n",
        "        anagram_dict[sorted_char].append(char)\n",
        "      else:\n",
        "        anagram_dict[sorted_char] = [char]\n",
        "\n",
        "    return list(anagram_dict.values())\n",
        "\n",
        "print(groupAnagrams(strs=[\"eat\", \"tea\", \"tan\", \"ate\", \"nat\", \"bat\"]))\n"
      ]
    },
    {
      "cell_type": "code",
      "execution_count": null,
      "metadata": {
        "colab": {
          "base_uri": "https://localhost:8080/"
        },
        "id": "J9gJYE1GhPB7",
        "outputId": "dda91dc4-ba37-47c9-a115-2766cc38e887"
      },
      "outputs": [
        {
          "name": "stdout",
          "output_type": "stream",
          "text": [
            "4\n"
          ]
        }
      ],
      "source": [
        "# Implement Pow(x , n)\n",
        "\n",
        "# Will need to learn more about this . For now leaving this\n",
        "\n",
        "def myPow( x: float, n: int) -> float:\n",
        "  if n == 0:\n",
        "    return 1\n",
        "  elif n < 0:\n",
        "    return 1 / myPow(x , -n)\n",
        "  elif n % 2 == 0:\n",
        "    half_pow =\n",
        "print(myPow(2 , 5))\n"
      ]
    },
    {
      "cell_type": "code",
      "execution_count": 6,
      "metadata": {
        "id": "W6xqQx2yp7Hk"
      },
      "outputs": [
        {
          "name": "stdout",
          "output_type": "stream",
          "text": [
            "dabab\n",
            "None\n"
          ]
        }
      ],
      "source": [
        "# Longest Palindromic substring\n",
        "\n",
        "## This is also hard for me to understand right now . I will solve this after some time\n",
        "\n",
        "class Solution:\n",
        "    def longestPalindrome(self, s: str) -> str:\n",
        "        rev: slice = slice(None , None , -1)\n",
        "        print(s[rev])\n",
        "\n",
        "solution = Solution()\n",
        "print(solution.longestPalindrome(s=\"babad\"))\n",
        "\n",
        "\n",
        "        "
      ]
    },
    {
      "cell_type": "code",
      "execution_count": 17,
      "metadata": {},
      "outputs": [
        {
          "name": "stdout",
          "output_type": "stream",
          "text": [
            "3.0\n"
          ]
        }
      ],
      "source": [
        "## Finding median in this , quite easy problem you just have to keep in mind of dividing the length of array - 1 , to get the middle point as the indexing start from 0\n",
        "\n",
        "def findMedianSortedArrays(nums1: list[int], nums2: list[int]) -> float:\n",
        "    sorted_array: list[int] = sorted(nums1 + nums2)\n",
        "    l: int = len(sorted_array)\n",
        "\n",
        "    if l % 2 != 0:\n",
        "        median = sorted_array[(l - 1) // 2]\n",
        "    else:\n",
        "        median = (sorted_array[(l - 1) // 2] + sorted_array[l // 2] ) / 2\n",
        "    return median\n",
        "    \n",
        "print(findMedianSortedArrays(nums1=[1 , 3] , nums2=[3 ,7 ]))\n",
        "        \n",
        "        "
      ]
    },
    {
      "cell_type": "code",
      "execution_count": 29,
      "metadata": {},
      "outputs": [
        {
          "data": {
            "text/plain": [
              "True"
            ]
          },
          "execution_count": 29,
          "metadata": {},
          "output_type": "execute_result"
        }
      ],
      "source": [
        "# This is a very easy and simple question.\n",
        "\n",
        "## This is a oneliner to solve this but this is not the fastest\n",
        "def containsDuplicate(nums: list[int]) -> bool:\n",
        "    return len(nums) != len(set(nums))\n",
        "\n",
        "containsDuplicate([1 ,2 ,3 ,1])\n",
        "\n",
        "\n",
        "def containsDuplicate(nums: list[int]) -> bool:\n",
        "    map = set()\n",
        "    for num in nums:\n",
        "        if num in map:\n",
        "            return True\n",
        "        else:\n",
        "            map.add(num)\n",
        "\n",
        "    return False\n",
        "\n",
        "containsDuplicate([1 ,2 ,3 ,1])\n",
        "\n",
        "        "
      ]
    }
  ],
  "metadata": {
    "colab": {
      "provenance": []
    },
    "kernelspec": {
      "display_name": "Python 3",
      "name": "python3"
    },
    "language_info": {
      "codemirror_mode": {
        "name": "ipython",
        "version": 3
      },
      "file_extension": ".py",
      "mimetype": "text/x-python",
      "name": "python",
      "nbconvert_exporter": "python",
      "pygments_lexer": "ipython3",
      "version": "3.11.5"
    }
  },
  "nbformat": 4,
  "nbformat_minor": 0
}
