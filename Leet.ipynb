{
  "nbformat": 4,
  "nbformat_minor": 0,
  "metadata": {
    "colab": {
      "provenance": []
    },
    "kernelspec": {
      "name": "python3",
      "display_name": "Python 3"
    },
    "language_info": {
      "name": "python"
    }
  },
  "cells": [
    {
      "cell_type": "code",
      "source": [
        "# Top K Frequent Number Solution\n",
        "\n",
        "def topKFrequent(nums, k):\n",
        "        \"\"\"\n",
        "        :type nums: List[int]\n",
        "        :type k: int\n",
        "        :rtype: List[int]\n",
        "        \"\"\"\n",
        "        num_map: dict[int , int] = {}\n",
        "\n",
        "        for item in nums:\n",
        "            if item in num_map:\n",
        "                num_map[item] += 1\n",
        "            else:\n",
        "                num_map[item] = 1\n",
        "        print(num_map)\n",
        "\n",
        "        sorted_nums = sorted(num_map.items(), key=lambda x: x[1], reverse=True)\n",
        "\n",
        "        print(sorted_nums)\n",
        "\n",
        "        return [item[0] for item in sorted_nums[:k]]\n",
        "\n",
        "\n",
        "topKFrequent(nums=[1, 1, 2, 2,  3, 4, 4, 5], k=2)\n",
        "\n"
      ],
      "metadata": {
        "colab": {
          "base_uri": "https://localhost:8080/"
        },
        "id": "0qyByKSz7wFx",
        "outputId": "beef37ac-f759-4249-c163-3ab6346d3012"
      },
      "execution_count": null,
      "outputs": [
        {
          "output_type": "stream",
          "name": "stdout",
          "text": [
            "{1: 2, 2: 2, 3: 1, 4: 2, 5: 1}\n",
            "[(1, 2), (2, 2), (4, 2), (3, 1), (5, 1)]\n"
          ]
        },
        {
          "output_type": "execute_result",
          "data": {
            "text/plain": [
              "[1, 2]"
            ]
          },
          "metadata": {},
          "execution_count": 14
        }
      ]
    },
    {
      "cell_type": "code",
      "source": [
        "print(15+20+15+48+8+5)"
      ],
      "metadata": {
        "colab": {
          "base_uri": "https://localhost:8080/"
        },
        "id": "opp9R7PbD-07",
        "outputId": "76c8aaf2-c26f-4fbe-bdab-98de89c23ea6"
      },
      "execution_count": null,
      "outputs": [
        {
          "output_type": "stream",
          "name": "stdout",
          "text": [
            "111\n"
          ]
        }
      ]
    },
    {
      "cell_type": "code",
      "source": [
        "# Intersection of two arrays\n",
        "\n",
        "def intersection(nums1: list[int], nums2: list[int]) -> list[int]:\n",
        "  new_nums1 = list(set(nums1))\n",
        "  new_nums2 = list(set(nums2))\n",
        "  temp: list[int]  = []\n",
        "\n",
        "  for item in new_nums1:\n",
        "    if item in new_nums2:\n",
        "      temp.append(item)\n",
        "    else:\n",
        "      continue\n",
        "\n",
        "\n",
        "print(intersection(nums1=[1 , 2 ,3 ,4 , 5, 6, 4 , 5 ] , nums2=[5 , 6 ,3 , 4 , 4 ,5 ,5 ]))\n"
      ],
      "metadata": {
        "colab": {
          "base_uri": "https://localhost:8080/"
        },
        "id": "rnZgNyz8Ivbt",
        "outputId": "b5903a40-d858-47f3-cbfd-398e04f9a4ae"
      },
      "execution_count": null,
      "outputs": [
        {
          "output_type": "stream",
          "name": "stdout",
          "text": [
            "[3, 4, 5, 6]\n"
          ]
        }
      ]
    },
    {
      "cell_type": "code",
      "source": [
        "# Better way of intersection problem\n",
        "\n",
        "def intersection(nums1: list[int], nums2: list[int]) -> list[int]:\n",
        "        return {*nums1} & {*nums2}\n",
        "\n",
        "print(intersection(nums1=[1 , 2 ,3 ,4 , 5, 6, 4 , 5 ] , nums2=[5 , 6 ,3 , 4 , 4 ,5 ,5 ]))"
      ],
      "metadata": {
        "colab": {
          "base_uri": "https://localhost:8080/"
        },
        "id": "LyMW-Tm1Ri6l",
        "outputId": "be442df5-245d-4ac3-c489-d37eaaadc169"
      },
      "execution_count": null,
      "outputs": [
        {
          "output_type": "stream",
          "name": "stdout",
          "text": [
            "{3, 4, 5, 6}\n"
          ]
        }
      ]
    },
    {
      "cell_type": "code",
      "source": [
        "# Group Anagrams\n",
        "# The Main thing is you have to keep in min\n",
        "def groupAnagrams(strs: list[str]) -> list[list[str]]:\n",
        "    anagram_dict = {}\n",
        "\n",
        "    for char in strs:\n",
        "      sorted_char = \"\".join(sorted(char))\n",
        "      if sorted_char in anagram_dict:\n",
        "        anagram_dict[sorted_char].append(char)\n",
        "      else:\n",
        "        anagram_dict[sorted_char] = [char]\n",
        "\n",
        "    return list(anagram_dict.values())\n",
        "\n",
        "print(groupAnagrams(strs=[\"eat\", \"tea\", \"tan\", \"ate\", \"nat\", \"bat\"]))\n"
      ],
      "metadata": {
        "colab": {
          "base_uri": "https://localhost:8080/"
        },
        "id": "SR_bV6L-Tfw1",
        "outputId": "1a5eb56b-484a-460a-fd39-d794008dccce"
      },
      "execution_count": null,
      "outputs": [
        {
          "output_type": "stream",
          "name": "stdout",
          "text": [
            "[['eat', 'tea', 'ate'], ['tan', 'nat'], ['bat']]\n"
          ]
        }
      ]
    },
    {
      "cell_type": "code",
      "source": [
        "# Implement Pow(x , n)\n",
        "\n",
        "# Will need to learn more about this . For now leaving this\n",
        "\n",
        "def myPow( x: float, n: int) -> float:\n",
        "  if n == 0:\n",
        "    return 1\n",
        "  elif n < 0:\n",
        "    return 1 / myPow(x , -n)\n",
        "  elif n % 2 == 0:\n",
        "    half_pow =\n",
        "print(myPow(2 , 5))\n"
      ],
      "metadata": {
        "colab": {
          "base_uri": "https://localhost:8080/"
        },
        "id": "J9gJYE1GhPB7",
        "outputId": "dda91dc4-ba37-47c9-a115-2766cc38e887"
      },
      "execution_count": null,
      "outputs": [
        {
          "output_type": "stream",
          "name": "stdout",
          "text": [
            "4\n"
          ]
        }
      ]
    },
    {
      "cell_type": "code",
      "source": [],
      "metadata": {
        "id": "W6xqQx2yp7Hk"
      },
      "execution_count": null,
      "outputs": []
    }
  ]
}