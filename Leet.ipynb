{
 "cells": [
  {
   "cell_type": "code",
   "execution_count": 1,
   "metadata": {
    "colab": {
     "base_uri": "https://localhost:8080/"
    },
    "id": "0qyByKSz7wFx",
    "outputId": "beef37ac-f759-4249-c163-3ab6346d3012"
   },
   "outputs": [
    {
     "name": "stdout",
     "output_type": "stream",
     "text": [
      "{1: 2, 2: 2, 3: 1, 4: 2, 5: 1}\n",
      "[(1, 2), (2, 2), (4, 2), (3, 1), (5, 1)]\n"
     ]
    },
    {
     "data": {
      "text/plain": [
       "[1, 2]"
      ]
     },
     "execution_count": 1,
     "metadata": {},
     "output_type": "execute_result"
    }
   ],
   "source": [
    "# Top K Frequent Number Solution\n",
    "\n",
    "def topKFrequent(nums, k):\n",
    "        num_map: dict[int , int] = {}\n",
    "\n",
    "        for item in nums:\n",
    "            if item in num_map:\n",
    "                num_map[item] += 1\n",
    "            else:\n",
    "                num_map[item] = 1\n",
    "        print(num_map)\n",
    "\n",
    "        sorted_nums = sorted(num_map.items(), key=lambda x: x[1], reverse=True)\n",
    "\n",
    "        print(sorted_nums)\n",
    "\n",
    "        return [item[0] for item in sorted_nums[:k]]\n",
    "\n",
    "\n",
    "topKFrequent(nums=[1, 1, 2, 2,  3, 4, 4, 5], k=2)\n",
    "\n"
   ]
  },
  {
   "cell_type": "code",
   "execution_count": null,
   "metadata": {
    "colab": {
     "base_uri": "https://localhost:8080/"
    },
    "id": "rnZgNyz8Ivbt",
    "outputId": "b5903a40-d858-47f3-cbfd-398e04f9a4ae"
   },
   "outputs": [
    {
     "name": "stdout",
     "output_type": "stream",
     "text": [
      "[3, 4, 5, 6]\n"
     ]
    }
   ],
   "source": [
    "# Intersection of two arrays\n",
    "\n",
    "def intersection(nums1: list[int], nums2: list[int]) -> list[int]:\n",
    "  new_nums1 = list(set(nums1))\n",
    "  new_nums2 = list(set(nums2))\n",
    "  temp: list[int]  = []\n",
    "\n",
    "  for item in new_nums1:\n",
    "    if item in new_nums2:\n",
    "      temp.append(item)\n",
    "    else:\n",
    "      continue\n",
    "\n",
    "\n",
    "print(intersection(nums1=[1 , 2 ,3 ,4 , 5, 6, 4 , 5 ] , nums2=[5 , 6 ,3 , 4 , 4 ,5 ,5 ]))\n"
   ]
  },
  {
   "cell_type": "code",
   "execution_count": null,
   "metadata": {
    "colab": {
     "base_uri": "https://localhost:8080/"
    },
    "id": "LyMW-Tm1Ri6l",
    "outputId": "be442df5-245d-4ac3-c489-d37eaaadc169"
   },
   "outputs": [
    {
     "name": "stdout",
     "output_type": "stream",
     "text": [
      "{3, 4, 5, 6}\n"
     ]
    }
   ],
   "source": [
    "# Better way of intersection problem\n",
    "\n",
    "def intersection(nums1: list[int], nums2: list[int]) -> list[int]:\n",
    "        return {*nums1} & {*nums2}\n",
    "\n",
    "print(intersection(nums1=[1 , 2 ,3 ,4 , 5, 6, 4 , 5 ] , nums2=[5 , 6 ,3 , 4 , 4 ,5 ,5 ]))"
   ]
  },
  {
   "cell_type": "code",
   "execution_count": null,
   "metadata": {
    "colab": {
     "base_uri": "https://localhost:8080/"
    },
    "id": "SR_bV6L-Tfw1",
    "outputId": "1a5eb56b-484a-460a-fd39-d794008dccce"
   },
   "outputs": [
    {
     "name": "stdout",
     "output_type": "stream",
     "text": [
      "[['eat', 'tea', 'ate'], ['tan', 'nat'], ['bat']]\n"
     ]
    }
   ],
   "source": [
    "# Group Anagrams\n",
    "def groupAnagrams(strs: list[str]) -> list[list[str]]:\n",
    "    anagram_dict = {}\n",
    "\n",
    "    for char in strs:\n",
    "      sorted_char = \"\".join(sorted(char))\n",
    "      if sorted_char in anagram_dict:\n",
    "        anagram_dict[sorted_char].append(char)\n",
    "      else:\n",
    "        anagram_dict[sorted_char] = [char]\n",
    "\n",
    "    return list(anagram_dict.values())\n",
    "\n",
    "print(groupAnagrams(strs=[\"eat\", \"tea\", \"tan\", \"ate\", \"nat\", \"bat\"]))\n"
   ]
  },
  {
   "cell_type": "code",
   "execution_count": null,
   "metadata": {
    "colab": {
     "base_uri": "https://localhost:8080/"
    },
    "id": "J9gJYE1GhPB7",
    "outputId": "dda91dc4-ba37-47c9-a115-2766cc38e887"
   },
   "outputs": [
    {
     "name": "stdout",
     "output_type": "stream",
     "text": [
      "4\n"
     ]
    }
   ],
   "source": [
    "# Implement Pow(x , n)\n",
    "\n",
    "# Will need to learn more about this . For now leaving this\n",
    "\n",
    "def myPow( x: float, n: int) -> float:\n",
    "  if n == 0:\n",
    "    return 1\n",
    "  elif n < 0:\n",
    "    return 1 / myPow(x , -n)\n",
    "  elif n % 2 == 0:\n",
    "    half_pow = None\n",
    "print(myPow(2 , 5))\n"
   ]
  },
  {
   "cell_type": "code",
   "execution_count": 6,
   "metadata": {
    "id": "W6xqQx2yp7Hk"
   },
   "outputs": [
    {
     "name": "stdout",
     "output_type": "stream",
     "text": [
      "dabab\n",
      "None\n"
     ]
    }
   ],
   "source": [
    "# Longest Palindromic substring\n",
    "\n",
    "## This is also hard for me to understand right now . I will solve this after some time\n",
    "\n",
    "class Solution:\n",
    "    def longestPalindrome(self, s: str) -> str:\n",
    "        rev: slice = slice(None , None , -1)\n",
    "        print(s[rev])\n",
    "\n",
    "solution = Solution()\n",
    "print(solution.longestPalindrome(s=\"babad\"))\n",
    "\n",
    "\n",
    "        "
   ]
  },
  {
   "cell_type": "code",
   "execution_count": 17,
   "metadata": {},
   "outputs": [
    {
     "name": "stdout",
     "output_type": "stream",
     "text": [
      "3.0\n"
     ]
    }
   ],
   "source": [
    "## Finding median in this , quite easy problem you just have to keep in mind of dividing the length of array - 1 , to get the middle point as the indexing start from 0\n",
    "\n",
    "def findMedianSortedArrays(nums1: list[int], nums2: list[int]) -> float:\n",
    "    sorted_array: list[int] = sorted(nums1 + nums2)\n",
    "    l: int = len(sorted_array)\n",
    "\n",
    "    if l % 2 != 0:\n",
    "        median = sorted_array[(l - 1) // 2]\n",
    "    else:\n",
    "        median = (sorted_array[(l - 1) // 2] + sorted_array[l // 2] ) / 2\n",
    "    return median\n",
    "    \n",
    "print(findMedianSortedArrays(nums1=[1 , 3] , nums2=[3 ,7 ]))\n",
    "        \n",
    "        "
   ]
  },
  {
   "cell_type": "code",
   "execution_count": 30,
   "metadata": {},
   "outputs": [
    {
     "data": {
      "text/plain": [
       "True"
      ]
     },
     "execution_count": 30,
     "metadata": {},
     "output_type": "execute_result"
    }
   ],
   "source": [
    "# This is a very easy and simple question.\n",
    "\n",
    "## This is a oneliner to solve this but this is not the fastest\n",
    "\n",
    "def containsDuplicate(nums: list[int]) -> bool:\n",
    "    return len(nums) != len(set(nums))\n",
    "\n",
    "containsDuplicate([1 ,2 ,3 ,1])\n",
    "\n",
    "\n",
    "## Faster method \n",
    "\n",
    "def containsDuplicate(nums: list[int]) -> bool:\n",
    "    map = set()\n",
    "    for num in nums:\n",
    "        if num in map:\n",
    "            return True\n",
    "        else:\n",
    "            map.add(num)\n",
    "\n",
    "    return False\n",
    "\n",
    "containsDuplicate([1 ,2 ,3 ,1])"
   ]
  },
  {
   "cell_type": "code",
   "execution_count": 36,
   "metadata": {},
   "outputs": [
    {
     "name": "stdout",
     "output_type": "stream",
     "text": [
      "4 [1, 1, 1, 1] [1, 1, 1, 1]\n",
      "[24, 12, 8, 6]\n"
     ]
    }
   ],
   "source": [
    "# I still did not get how to solve this \n",
    "\n",
    "\n",
    "#Unsolved\n",
    "\n",
    "def productExceptSelf( nums: list[int]) -> list[int]:\n",
    "    n = len(nums)\n",
    "    prefix = [1] * n \n",
    "    suffix = [1] * n\n",
    "    print( n , suffix , prefix)\n",
    "    for i in range(1 , n):\n",
    "        prefix[i] = prefix[i -1] * nums[i - 1]\n",
    "    for i in range(n - 2, -1, -1):\n",
    "        suffix[i] = suffix[i + 1] * nums[i + 1]\n",
    "\n",
    "    answer = [prefix[i] * suffix[i] for i in range(n)]\n",
    "    print(answer)\n",
    "\n",
    "\n",
    "productExceptSelf(nums=[1 ,2 ,3 ,4])"
   ]
  },
  {
   "cell_type": "code",
   "execution_count": 84,
   "metadata": {},
   "outputs": [
    {
     "name": "stdout",
     "output_type": "stream",
     "text": [
      "[-1, 0, 1, 3, 4, 5, 6, 7, 8, 9]\n",
      "Index 0 ==> 0 == 0\n",
      "Index 1 ==> 1 == 1\n",
      "Index 2 ==> 2 == 3\n"
     ]
    },
    {
     "data": {
      "text/plain": [
       "3"
      ]
     },
     "execution_count": 84,
     "metadata": {},
     "output_type": "execute_result"
    }
   ],
   "source": [
    "# Longest Consecutive Number Problem\n",
    "\n",
    "# In this code I was wrong that the number are going to start with smallest on the left side , due to this this is failing the testcases.\n",
    "\n",
    "#Failed \n",
    "def longestConsecutive(nums: list[int]) -> int:\n",
    "    new_array  = set(nums)\n",
    "    sorted_new_array = sorted(new_array)\n",
    "    print(sorted_new_array)\n",
    "    counter = 0\n",
    "\n",
    "    for i in range(len(sorted_new_array) - 1):\n",
    "        print(f\"Index {i} ==> {sorted_new_array[i] + 1 } == {sorted_new_array[i+ 1] }\")\n",
    "        if sorted_new_array[i] + 1 == sorted_new_array[i + 1]:\n",
    "            counter += 1\n",
    "        else:\n",
    "            break\n",
    "        \n",
    "    return counter + 1\n",
    "        \n",
    "longestConsecutive(nums=[9,1,4,7,3,-1,0,5,8,-1,6])"
   ]
  },
  {
   "cell_type": "code",
   "execution_count": 88,
   "metadata": {},
   "outputs": [
    {
     "data": {
      "text/plain": [
       "7"
      ]
     },
     "execution_count": 88,
     "metadata": {},
     "output_type": "execute_result"
    }
   ],
   "source": [
    "def longestConsecutive(nums: list[int]) -> int:\n",
    "    new_array = set(nums)\n",
    "    max_len = 0 \n",
    "\n",
    "    for num in nums:\n",
    "        # if num not in new_array: \n",
    "            # continue\n",
    "        # Using the above thing make the code much slower\n",
    "        if num - 1 not in new_array:\n",
    "            current_len = 1\n",
    "            next_num = num + 1\n",
    "            while next_num in new_array:\n",
    "                current_len += 1\n",
    "                next_num += 1\n",
    "            max_len = max(max_len , current_len)\n",
    "\n",
    "    return max_len\n",
    "\n",
    "longestConsecutive(nums=[9,1,4,7,3,-1,0,5,8,-1,6])"
   ]
  },
  {
   "cell_type": "code",
   "execution_count": 109,
   "metadata": {},
   "outputs": [
    {
     "name": "stdout",
     "output_type": "stream",
     "text": [
      "0p\n"
     ]
    },
    {
     "data": {
      "text/plain": [
       "False"
      ]
     },
     "execution_count": 109,
     "metadata": {},
     "output_type": "execute_result"
    }
   ],
   "source": [
    "\n",
    "## Pretty Easy solved it in the first submission\n",
    "\n",
    "def isPalindrome(s: str) -> bool:\n",
    "    pointer = \"abcdefghijklmnopqrstuvwxyz1234567890\"\n",
    "    new = []\n",
    "    for char in s:\n",
    "        if char.lower() in pointer:\n",
    "            new.append(char.lower())\n",
    "    new_s = ''.join(new)\n",
    "\n",
    "    print(new_s)\n",
    "\n",
    "    if new_s != new_s[::-1]:\n",
    "        return False\n",
    "    else:\n",
    "        return True\n",
    "    \n",
    "isPalindrome(s=\"0P\")     "
   ]
  },
  {
   "cell_type": "code",
   "execution_count": 170,
   "metadata": {},
   "outputs": [
    {
     "data": {
      "text/plain": [
       "[1, 3]"
      ]
     },
     "execution_count": 170,
     "metadata": {},
     "output_type": "execute_result"
    }
   ],
   "source": [
    "# Two sum2\n",
    "\n",
    "# Half Learned\n",
    "\n",
    "def twoSum(numbers: list[int], target: int) -> list[int]:\n",
    "    index = {}\n",
    "\n",
    "    for i , num in enumerate(numbers):\n",
    "        desired = target - numbers[i]\n",
    "        if desired in index:\n",
    "            return [index[desired]+1 , i+1]\n",
    "        else:\n",
    "            index[num] = i\n",
    "\n",
    "twoSum(numbers=[2,3,4] , target=6)"
   ]
  },
  {
   "cell_type": "code",
   "execution_count": 162,
   "metadata": {},
   "outputs": [
    {
     "data": {
      "text/plain": [
       "{(0, 0, 0)}"
      ]
     },
     "execution_count": 162,
     "metadata": {},
     "output_type": "execute_result"
    }
   ],
   "source": [
    "# Three sum\n",
    "\n",
    "#Actually this one is much faster \n",
    "\n",
    "def threeSum( nums: list[int]) -> list[list[int]]:\n",
    "    result = set()\n",
    "    nums.sort()\n",
    "    n = len(nums)\n",
    "\n",
    "    for i in range(n-2):\n",
    "        j = i + 1\n",
    "        k = n - 1\n",
    "        while j< k:\n",
    "            temp = nums[i] + nums[j] + nums[k]\n",
    "            if temp == 0:\n",
    "                result.add((nums[i] , nums[j] , nums[k]))\n",
    "                j += 1\n",
    "            elif temp > 0:\n",
    "                k -= 1\n",
    "            else:\n",
    "                j += 1\n",
    "    return result\n",
    "\n",
    "threeSum(nums=[-1,0,1,2,-1,-4])\n"
   ]
  },
  {
   "cell_type": "code",
   "execution_count": 171,
   "metadata": {},
   "outputs": [
    {
     "data": {
      "text/plain": [
       "{(-1, -1, 2), (-1, 0, 1)}"
      ]
     },
     "execution_count": 171,
     "metadata": {},
     "output_type": "execute_result"
    }
   ],
   "source": [
    "# Three sum problem \n",
    "# I am using hashmap in this\n",
    "\n",
    "def threeSum(nums: list[int]) -> list[int]:\n",
    "    result = set()\n",
    "    hashmap = {} #nums : indices\n",
    "    n = len(nums)\n",
    "\n",
    "    for i , num in enumerate(nums):\n",
    "        hashmap[num] = i\n",
    "\n",
    "    for i in range(n):\n",
    "        for j in range(i+1 , n):\n",
    "            desired = -nums[i] - nums[j]\n",
    "            if desired in hashmap and hashmap[desired] != i and hashmap[desired] !=j:\n",
    "                result.add(tuple(sorted([nums[i] , nums[j] , desired])))\n",
    "\n",
    "    return result\n",
    "\n",
    "threeSum(nums=[-1,0,1,2,-1,-4])\n",
    "\n",
    "#Actually both of these are slow but atleast I can solve these now hahahah"
   ]
  },
  {
   "cell_type": "code",
   "execution_count": 232,
   "metadata": {},
   "outputs": [
    {
     "data": {
      "text/plain": [
       "True"
      ]
     },
     "execution_count": 232,
     "metadata": {},
     "output_type": "execute_result"
    }
   ],
   "source": [
    "# I am still confused how this works \n",
    "\n",
    "def isValid(s: str) -> bool:\n",
    "    brackets = {\"(\": \")\", \"{\": \"}\", \"[\": \"]\"} \n",
    "    stack = list() \n",
    "    for c in s:\n",
    "        if c in brackets.keys():\n",
    "            stack.append(c) \n",
    "        elif any(b in stack for b in brackets.keys()): \n",
    "            if c != brackets.get(stack.pop()): \n",
    "                return False \n",
    "        else:\n",
    "            stack.append(c) \n",
    "    return True if not stack else False\n",
    "\n",
    "isValid(s=\"()()\")"
   ]
  },
  {
   "cell_type": "code",
   "execution_count": 3,
   "metadata": {
    "ExecuteTime": {
     "end_time": "2024-04-16T15:51:35.530858Z",
     "start_time": "2024-04-16T15:51:35.518617Z"
    }
   },
   "outputs": [
    {
     "name": "stdout",
     "output_type": "stream",
     "text": [
      "{6: 1, 5: 2}\n"
     ]
    },
    {
     "data": {
      "text/plain": [
       "5"
      ]
     },
     "execution_count": 3,
     "metadata": {},
     "output_type": "execute_result"
    }
   ],
   "source": [
    "# Majority number , I think I can solve this in the first time \n",
    "\n",
    "def majorityElement(nums: list[int]) -> int:\n",
    "    hashmap = {}\n",
    "\n",
    "    for num in nums:\n",
    "        if num in hashmap:\n",
    "            hashmap[num] += 1\n",
    "        else:\n",
    "            hashmap[num] = 1\n",
    "\n",
    "    print(hashmap)\n",
    "    sorted_nums = sorted(hashmap.items() , key= lambda x: x[1] , reverse= True)\n",
    "    result = [item[0] for item in sorted_nums[:1]]\n",
    "    return result[0]\n",
    "\n",
    "majorityElement(nums=[6,5,5])   "
   ]
  },
  {
   "cell_type": "code",
   "execution_count": 262,
   "metadata": {},
   "outputs": [
    {
     "data": {
      "text/plain": [
       "5"
      ]
     },
     "execution_count": 262,
     "metadata": {},
     "output_type": "execute_result"
    }
   ],
   "source": [
    "# Nice! this is the best way of do this , not the overcomplicated shit I done above \n",
    "def majorityElement(nums: list[int]) -> int:\n",
    "    nums.sort()\n",
    "    return nums[len(nums)//2]\n",
    "\n",
    "majorityElement(nums=[6,5,5])"
   ]
  },
  {
   "cell_type": "code",
   "execution_count": 9,
   "metadata": {},
   "outputs": [
    {
     "name": "stdout",
     "output_type": "stream",
     "text": [
      "   tweet_id                           content\n",
      "1         2  Let us make America great again!\n"
     ]
    },
    {
     "data": {
      "text/html": [
       "<div>\n",
       "<style scoped>\n",
       "    .dataframe tbody tr th:only-of-type {\n",
       "        vertical-align: middle;\n",
       "    }\n",
       "\n",
       "    .dataframe tbody tr th {\n",
       "        vertical-align: top;\n",
       "    }\n",
       "\n",
       "    .dataframe thead th {\n",
       "        text-align: right;\n",
       "    }\n",
       "</style>\n",
       "<table border=\"1\" class=\"dataframe\">\n",
       "  <thead>\n",
       "    <tr style=\"text-align: right;\">\n",
       "      <th></th>\n",
       "      <th>tweet_id</th>\n",
       "    </tr>\n",
       "  </thead>\n",
       "  <tbody>\n",
       "    <tr>\n",
       "      <th>1</th>\n",
       "      <td>2</td>\n",
       "    </tr>\n",
       "  </tbody>\n",
       "</table>\n",
       "</div>"
      ],
      "text/plain": [
       "   tweet_id\n",
       "1         2"
      ]
     },
     "execution_count": 9,
     "metadata": {},
     "output_type": "execute_result"
    }
   ],
   "source": [
    "#Solving Leetcode 50 Questions\n",
    "import pandas as pd\n",
    "data = [[1, 'Vote for Biden'], [2, 'Let us make America great again!']]\n",
    "tweets = pd.DataFrame(data, columns=['tweet_id', 'content']).astype({'tweet_id':'Int64', 'content':'object'})\n",
    "\n",
    "def invalid_tweets(tweets: pd.DataFrame) -> pd.DataFrame:\n",
    "    result = tweets[tweets['content'].str.len() > 15]\n",
    "    print(result)\n",
    "    return result[['tweet_id']]\n",
    "\n",
    "invalid_tweets(tweets=tweets)"
   ]
  },
  {
   "cell_type": "code",
   "execution_count": 16,
   "metadata": {},
   "outputs": [
    {
     "data": {
      "text/plain": [
       "4"
      ]
     },
     "execution_count": 16,
     "metadata": {},
     "output_type": "execute_result"
    }
   ],
   "source": [
    "# Solved in first try quite easy\n",
    "\n",
    "def lengthOfLastWord(s: str) -> int:\n",
    "    data = s.split(\" \")\n",
    "    new_data = [char for char in data if char !=\"\" and char.isalpha()]\n",
    "    return len(new_data[-1])\n",
    "    \n",
    "lengthOfLastWord(s= \"   fly me   to   the moon  \")"
   ]
  },
  {
   "cell_type": "code",
   "execution_count": 21,
   "metadata": {},
   "outputs": [
    {
     "name": "stdout",
     "output_type": "stream",
     "text": [
      "{2: 2, 1: 1}\n"
     ]
    },
    {
     "data": {
      "text/plain": [
       "1"
      ]
     },
     "execution_count": 21,
     "metadata": {},
     "output_type": "execute_result"
    }
   ],
   "source": [
    "# I am using hashmap in every thing , but solved it without looking anywhere else\n",
    "\n",
    "def singleNumber(nums: list[int]) -> int:\n",
    "    hashmap = {}\n",
    "\n",
    "    for num in nums:\n",
    "        if num in hashmap:\n",
    "            hashmap[num] += 1\n",
    "        else:\n",
    "            hashmap[num] = 1\n",
    "\n",
    "    print(hashmap)\n",
    "    sorted_map = sorted(hashmap.items() , key = lambda x:x[1] , reverse=True)\n",
    "    return sorted_map[-1][0]\n",
    "            \n",
    "singleNumber(nums=[2 , 2, 1])\n"
   ]
  },
  {
   "cell_type": "code",
   "execution_count": 26,
   "metadata": {},
   "outputs": [
    {
     "data": {
      "text/plain": [
       "2"
      ]
     },
     "execution_count": 26,
     "metadata": {},
     "output_type": "execute_result"
    }
   ],
   "source": [
    "#Better way to do the above question\n",
    "#This is quite interesting I still did not get how the heck XOR operation works but one thing I know is that there is some bit manipulation and bit matching is working in the background\n",
    "\n",
    "def singleNumber(nums):\n",
    "    n = 0\n",
    "    for num in nums:\n",
    "        n ^= num\n",
    "    return n\n",
    "\n",
    "singleNumber(nums=[1, 1, 2])"
   ]
  },
  {
   "cell_type": "code",
   "execution_count": 37,
   "metadata": {},
   "outputs": [
    {
     "data": {
      "text/html": [
       "<div>\n",
       "<style scoped>\n",
       "    .dataframe tbody tr th:only-of-type {\n",
       "        vertical-align: middle;\n",
       "    }\n",
       "\n",
       "    .dataframe tbody tr th {\n",
       "        vertical-align: top;\n",
       "    }\n",
       "\n",
       "    .dataframe thead th {\n",
       "        text-align: right;\n",
       "    }\n",
       "</style>\n",
       "<table border=\"1\" class=\"dataframe\">\n",
       "  <thead>\n",
       "    <tr style=\"text-align: right;\">\n",
       "      <th></th>\n",
       "      <th>product_id</th>\n",
       "    </tr>\n",
       "  </thead>\n",
       "  <tbody>\n",
       "    <tr>\n",
       "      <th>1</th>\n",
       "      <td>1</td>\n",
       "    </tr>\n",
       "    <tr>\n",
       "      <th>3</th>\n",
       "      <td>3</td>\n",
       "    </tr>\n",
       "  </tbody>\n",
       "</table>\n",
       "</div>"
      ],
      "text/plain": [
       "   product_id\n",
       "1           1\n",
       "3           3"
      ]
     },
     "execution_count": 37,
     "metadata": {},
     "output_type": "execute_result"
    }
   ],
   "source": [
    "data = [['0', 'Y', 'N'], ['1', 'Y', 'Y'], ['2', 'N', 'Y'], ['3', 'Y', 'Y'], ['4', 'N', 'N']]\n",
    "products = pd.DataFrame(data, columns=['product_id', 'low_fats', 'recyclable']).astype({'product_id':'int64', 'low_fats':'category', 'recyclable':'category'})\n",
    "\n",
    "def find_products(products: pd.DataFrame) -> pd.DataFrame:\n",
    "    data = products[(products['low_fats'] == \"Y\") & (products['recyclable'] == \"Y\")]\n",
    "    return data[['product_id']]\n",
    "    \n",
    "find_products(products=products)\n"
   ]
  },
  {
   "cell_type": "code",
   "execution_count": 13,
   "metadata": {
    "ExecuteTime": {
     "end_time": "2024-04-18T09:03:05.752329Z",
     "start_time": "2024-04-18T09:03:05.745909Z"
    }
   },
   "outputs": [
    {
     "data": {
      "text/plain": [
       "5"
      ]
     },
     "execution_count": 13,
     "metadata": {},
     "output_type": "execute_result"
    }
   ],
   "source": [
    "# I  still have to learn this I don't know how this is working p\n",
    "\n",
    "def maxProfit(prices: list[int]) -> int:\n",
    "    buy = prices[0]\n",
    "    profit = 0\n",
    "\n",
    "    for i in range(1 , len(prices)):\n",
    "        if prices[i] < buy:\n",
    "            buy = prices[i]\n",
    "        elif prices[i] - buy > profit:\n",
    "            profit = prices[i] - buy\n",
    "    return profit\n",
    "\n",
    "maxProfit(prices=[7,1,5,3,6,4])\n",
    "        "
   ]
  },
  {
   "cell_type": "code",
   "execution_count": 20,
   "metadata": {
    "ExecuteTime": {
     "end_time": "2024-04-18T09:07:16.806729Z",
     "start_time": "2024-04-18T09:07:16.802991Z"
    }
   },
   "outputs": [],
   "source": [
    "def reverseString(s: list[str]) -> None:\n",
    "    s.reverse()\n",
    "    print(s)\n",
    "reverseString(s=[\"A\" , \"B\" , \"C\" , \"D\" , \"E\"])\n"
   ]
  },
  {
   "cell_type": "code",
   "execution_count": 29,
   "metadata": {
    "ExecuteTime": {
     "end_time": "2024-04-18T09:22:14.408972Z",
     "start_time": "2024-04-18T09:22:14.398Z"
    }
   },
   "outputs": [
    {
     "name": "stdout",
     "output_type": "stream",
     "text": [
      "ho\n",
      "holle\n",
      "holle\n"
     ]
    }
   ],
   "source": []
  },
  {
   "cell_type": "code",
   "metadata": {
    "ExecuteTime": {
     "end_time": "2024-04-30T13:00:13.229741Z",
     "start_time": "2024-04-30T13:00:13.223334Z"
    }
   },
   "source": [
    "# It was kind of easy and I was able to solve it on my own\n",
    "def reverse(x: int) -> int:\n",
    "    new = str(x)\n",
    "    \n",
    "    if new.startswith(\"-\"):\n",
    "        reversed_int  = int(\"-\" + new[::-1][:-1])\n",
    "    else:\n",
    "        reversed_int = int(new[::-1])\n",
    "    \n",
    "    if reversed_int > 2 ** 31 - 1 or reversed_int < -2 ** 31: # This I have to check in the solutions \n",
    "            return 0\n",
    "    \n",
    "    return reversed_int\n",
    "    \n",
    "reverse(x=-120)\n",
    "    "
   ],
   "outputs": [
    {
     "data": {
      "text/plain": [
       "-21"
      ]
     },
     "execution_count": 1,
     "metadata": {},
     "output_type": "execute_result"
    }
   ],
   "execution_count": 1
  }
 ],
 "metadata": {
  "colab": {
   "provenance": []
  },
  "kernelspec": {
   "display_name": "Python 3 (ipykernel)",
   "language": "python",
   "name": "python3"
  },
  "language_info": {
   "codemirror_mode": {
    "name": "ipython",
    "version": 3
   },
   "file_extension": ".py",
   "mimetype": "text/x-python",
   "name": "python",
   "nbconvert_exporter": "python",
   "pygments_lexer": "ipython3",
   "version": "3.11.5"
  }
 },
 "nbformat": 4,
 "nbformat_minor": 0
}
