{
 "cells": [
  {
   "metadata": {},
   "cell_type": "markdown",
   "source": [
    "# This is the Scott Barrett DSA course \n",
    "## - Big O Notation\n",
    "\n",
    "\n",
    "### The big O complexity , this is defined by the number of operations done to solve a problem . Also in this , only the worst case secanrio is taken in account\n",
    "\n",
    "- **O(1)** => This is the constant time , and this is always the best optimised solution for every problem if it can be done.\n",
    "- **O(logn)** => This is the second most optimized way of solving a problem , where less no of operations are performed to solve a problem . The best example for this is ```Binary Search```\n",
    "- **O(n)** => This involves doing the thing n number of operations where n of items are present in the problem .Example . A for or while loop . ```for item in items: print(item) ```\n",
    "- **O(n^2)** => This is one of the worst time complexity  . Example a nested for loop ``` for i in range(n): for j in range(n): print(i,j)```\n",
    "\n",
    "One thing to note is that in Big O nation we tend to drop the constant , Also we use the dominant number of operations . For example if there are 2 nested loop and one 1 simple loop ( The constant should be like **O(n^2 + n)** but be drop the n cause it has signifant less number of operations then the first only and we only use  **O(n^2)**\n",
    "\n"
   ],
   "id": "5f101fce5696b2e3"
  },
  {
   "metadata": {},
   "cell_type": "markdown",
   "source": "",
   "id": "c108edf609b14a72"
  },
  {
   "metadata": {},
   "cell_type": "code",
   "outputs": [],
   "execution_count": null,
   "source": "",
   "id": "8c3ee6b94fb68dc1"
  }
 ],
 "metadata": {
  "kernelspec": {
   "display_name": "Python 3",
   "language": "python",
   "name": "python3"
  },
  "language_info": {
   "codemirror_mode": {
    "name": "ipython",
    "version": 2
   },
   "file_extension": ".py",
   "mimetype": "text/x-python",
   "name": "python",
   "nbconvert_exporter": "python",
   "pygments_lexer": "ipython2",
   "version": "2.7.6"
  }
 },
 "nbformat": 4,
 "nbformat_minor": 5
}
