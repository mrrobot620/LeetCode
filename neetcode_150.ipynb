{
 "cells": [
  {
   "metadata": {},
   "cell_type": "markdown",
   "source": "# NeetCode 1: ContainDuplicates",
   "id": "43ed71aa4602a8d1"
  },
  {
   "metadata": {},
   "cell_type": "code",
   "source": [
    "def containDuplicates(nums: list[int]) -> bool:\n",
    "    new_nums = set()\n",
    "    for num in nums:\n",
    "        if num in new_nums:\n",
    "            return True\n",
    "        new_nums.add(num)\n",
    "    return False\n",
    "        \n",
    "containDuplicates(nums=[1, 2, 3, 4, 5, 6, 7, 8, 9, 10 , 1])"
   ],
   "id": "initial_id",
   "outputs": [],
   "execution_count": null
  },
  {
   "metadata": {},
   "cell_type": "code",
   "source": [
    "# The same question but with a oneliner \n",
    "def containDuplicates2(nums: list[int]) -> bool:\n",
    "    return len(nums) != len(set(nums))\n",
    "\n",
    "containDuplicates2(nums=[1, 2, 3, 4, 5, 6, 7, 8, 9, 10])\n",
    "\n",
    "# I think I can solve this without any problem any time , this won't be a issue for me ever "
   ],
   "id": "17725461a8f1dc82",
   "outputs": [],
   "execution_count": null
  },
  {
   "metadata": {},
   "cell_type": "markdown",
   "source": [
    "# NeetCode2 : Is Anagram\n",
    "- First func is oneliner which is slow . \n",
    "- Second one uses a hashmap for faster runtime"
   ],
   "id": "b494a753b1f4ae81"
  },
  {
   "metadata": {},
   "cell_type": "code",
   "source": [
    "def isAnagram(str1: str, str2: str) -> bool:\n",
    "    return sorted(str1) == sorted(str2)\n",
    "\n",
    "isAnagram(str1='abc', str2='abe')\n",
    "\n",
    "# This one is kind of easy too. Don't use set here as It will fail the testcase like \"aa\" and \"a\""
   ],
   "id": "25e64f4a99ba5253",
   "outputs": [],
   "execution_count": null
  },
  {
   "metadata": {},
   "cell_type": "code",
   "source": [
    "def isAnagaram2(str1: str, str2: str) -> bool:\n",
    "    def local_counter(s: str) -> dict[str, int]:\n",
    "        hashmap = {}\n",
    "        for char in s:\n",
    "            if char in hashmap:\n",
    "                hashmap[char] += 1\n",
    "            else:\n",
    "                hashmap[char] = 1\n",
    "        return hashmap\n",
    "    \n",
    "    return local_counter(str1) == local_counter(str2)\n",
    "\n",
    "isAnagaram2(str1='abc', str2='abc')\n",
    "\n",
    "# Using Hashmap is quite fun ,it's faster then the isAnagram1 and also fun."
   ],
   "id": "cfd6cd4cda7ca197",
   "outputs": [],
   "execution_count": null
  },
  {
   "metadata": {},
   "cell_type": "markdown",
   "source": [
    "# NeetCode 3: Two Sum\n",
    "- First function uses hashmap and is one of the best method to solve this \n",
    "- Second one uses bruteforce method too solve this . \n"
   ],
   "id": "cf8c6123befd9e8"
  },
  {
   "metadata": {},
   "cell_type": "code",
   "source": [
    "def twoSum(nums: list[int], target: int) -> list[int]:\n",
    "    map = {}\n",
    "    \n",
    "    for i in range(len(nums)):\n",
    "        map[nums[i]] = i\n",
    "    \n",
    "    print(map)\n",
    "    for i in range(len(nums)):\n",
    "        if target - nums[i] in map and i != map[target - nums[i]]:\n",
    "            return [i , map[target - nums[i]]]\n",
    "    \n",
    "twoSum(nums=[3 , 2 , 4], target=6)\n",
    "\n",
    "# Two sum is also easy for me and I don't think I will be having any problem in this "
   ],
   "id": "ddafc104ea22a89c",
   "outputs": [],
   "execution_count": null
  },
  {
   "metadata": {},
   "cell_type": "code",
   "source": [
    "# Lets try the bruteforce method too\n",
    "\n",
    "def twoSum2(nums: list[int], target: int) -> list[int]:\n",
    "    for i in range(len(nums)):\n",
    "        for j in range(i + 1, len(nums)):\n",
    "            if nums[i] + nums[j] == target:\n",
    "                return [i , j]\n",
    "            \n",
    "twoSum2(nums=[3 , 2 , 4], target=6)\n",
    "\n",
    "# This one uses Two Pointer Bruteforce Method"
   ],
   "id": "10c56345e71fc902",
   "outputs": [],
   "execution_count": null
  },
  {
   "metadata": {},
   "cell_type": "markdown",
   "source": [
    "# NeetCode 4: Group Anagrams\n",
    "- Solved using hashmap , and it's the only method which I know . Only this to remember in this [str] should be saved in list instead of str"
   ],
   "id": "88a02b54e75f8502"
  },
  {
   "metadata": {},
   "cell_type": "code",
   "source": [
    "def groupAnagrams(strs: list[str]) -> list[list[str]]:\n",
    "    map = {}\n",
    "    \n",
    "    for str in strs:\n",
    "        sorted_str = \"\".join(sorted(str))\n",
    "        if sorted_str in map:\n",
    "            map[sorted_str].append(str)\n",
    "        else:\n",
    "            map[sorted_str] = [str]\n",
    "    return list(map.values())\n",
    "    \n",
    "groupAnagrams(strs=[\"eat\",\"tea\",\"tan\",\"ate\",\"nat\",\"bat\"])\n",
    "\n",
    "# I know this one too , but I think the AI in Pycharm is helping me too much , But I think I got the grasp of the problem , and Back of my head I know how I am going approach this problem."
   ],
   "id": "b8b0b46da4762dd0",
   "outputs": [],
   "execution_count": null
  },
  {
   "metadata": {},
   "cell_type": "markdown",
   "source": [
    "# NeetCode 5: Top K Frequent Numbers\n",
    "- The man thing in this also is same you just have to create a hashmap in such way that map contains  ```map = [\"num\" , \"number of times element is in the list\"] ```\n",
    "- Then sort the map using lambda and sorted function ``` sorted_nums = sorted(maps.items() , key=lambda x:x[1] , reverse= True) ```\n",
    "- And in last return the ```return [item[0] for item in sorted_map[:k] ``` element from the list \n"
   ],
   "id": "60cacc9647aa8a7f"
  },
  {
   "metadata": {},
   "cell_type": "code",
   "source": [
    "def topKFrequentNumbers(nums: list[int], k: int) -> list[int]:\n",
    "    map = {}\n",
    "    for num in nums:\n",
    "        if num in map:\n",
    "            map[num] += 1\n",
    "        else:\n",
    "            map[num] = 1\n",
    "    \n",
    "    sorted_map = sorted(map.items(), key=lambda x: x[1], reverse=True)\n",
    "    print(sorted_map)\n",
    "    \n",
    "    return [item[0] for item in sorted_map[:k]]\n",
    "   \n",
    "   \n",
    "topKFrequentNumbers(nums=[3 , 2 , 4], k=2)"
   ],
   "id": "2ad99010e984074e",
   "outputs": [],
   "execution_count": null
  },
  {
   "metadata": {},
   "cell_type": "markdown",
   "source": [
    "# NeetCode 6: Encode Decode String || # LOCKED\n",
    "- Will try to find the question from some other place till then leaving it "
   ],
   "id": "64ecdc529585d0d8"
  },
  {
   "metadata": {},
   "cell_type": "markdown",
   "source": "# NeetCode 7: Product Except Self",
   "id": "554599bf78de33aa"
  },
  {
   "metadata": {},
   "cell_type": "code",
   "source": [
    "import numpy\n",
    "def productExceptSelf1(nums: list[int]) -> list[int]:\n",
    "    product: list[int] = []\n",
    "    total_prod = numpy.prod(nums)\n",
    "    for i in range(len(nums)):\n",
    "        product.append(total_prod / nums[i])\n",
    "    return [int(i) for i in product]\n",
    "productExceptSelf1(nums=[1 ,2 ,3 ,4])\n",
    "\n",
    "# This one is the easiest solution of this question , but there is a issue with this if the nums contains 0 it is going to crash the code\n",
    "   "
   ],
   "id": "688ff7b21b823055",
   "outputs": [],
   "execution_count": null
  },
  {
   "metadata": {},
   "cell_type": "markdown",
   "source": [
    "- I come up with this solution and this is slow af . \n",
    "- I have to learn the current way to do this "
   ],
   "id": "452f3df5a5fe16d2"
  },
  {
   "metadata": {},
   "cell_type": "code",
   "source": [
    "import numpy\n",
    "def productExceptSelf2(nums: list[int]) -> list[int]:\n",
    "    result: list[int] = []\n",
    "  \n",
    "    for i in range(len(nums)):\n",
    "        temp: list[int] = [nums[:i] + nums[i + 1:]]\n",
    "        result.append(numpy.prod(temp))\n",
    "    return result\n",
    "        \n",
    "productExceptSelf2(nums=[-1,1,0,-3,3])\n"
   ],
   "id": "4f0d53974c745c08",
   "outputs": [],
   "execution_count": null
  },
  {
   "metadata": {},
   "cell_type": "markdown",
   "source": "",
   "id": "e31bbc71e8e52f4c"
  },
  {
   "metadata": {},
   "cell_type": "markdown",
   "source": "- Done trying everything which came to my brain , I think I have to just memorize this ",
   "id": "d2da3595f819f129"
  },
  {
   "metadata": {},
   "cell_type": "code",
   "source": [
    "# This one is also slow af\n",
    "import math\n",
    "def productExceptSelf3( nums: list[int]) -> list[int]:\n",
    "    result: list[int] = []\n",
    "    for i in range(len(nums)):\n",
    "        values = nums[:i] + nums[i + 1:]\n",
    "        a = math.prod(values)\n",
    "        result.append(a)\n",
    "    return result\n",
    "    \n",
    "productExceptSelf3(nums=[1 ,2 ,3,4])\n",
    "    "
   ],
   "id": "fe4baa5258e1667b",
   "outputs": [],
   "execution_count": null
  },
  {
   "metadata": {},
   "cell_type": "code",
   "source": [
    "# This is Someone else code and I don't yet know how is this working\n",
    "def productExceptSelf4(nums: list[int]) -> list[int]:\n",
    "    n=len(nums)\n",
    "    ans=[1]*n\n",
    "    print(ans)\n",
    "    prefix=1\n",
    "    for i in  range(n):\n",
    "        ans[i]=prefix\n",
    "        prefix*=nums[i]\n",
    "    postfix=1\n",
    "    for i in range(n-1,-1 , -1):# What does this doo , I want to know \n",
    "        print(i) #Got it can be used to  start indexing from last\n",
    "        ans[i]*=postfix\n",
    "        postfix*=nums[i]\n",
    "    return ans        \n",
    "\n",
    "productExceptSelf4(nums=[1 ,2 ,3,4 ,5])"
   ],
   "id": "49ad5d6aac3b6b52",
   "outputs": [],
   "execution_count": null
  },
  {
   "metadata": {},
   "cell_type": "markdown",
   "source": "",
   "id": "3031ec467ca33513"
  },
  {
   "metadata": {},
   "cell_type": "markdown",
   "source": [
    "# LeetCode 8: Longest Consecutive Sequence\n",
    "\n",
    "- The first one I wrote on my own without using any hashmap and It did not worked , if the same int happens to be in the array\n"
   ],
   "id": "78407cbe7d3bdb48"
  },
  {
   "metadata": {},
   "cell_type": "code",
   "source": [
    "def longestConsecutive(nums: list[int]) -> int:\n",
    "    a = sorted(nums)\n",
    "    print(a)\n",
    "    count: int = 1\n",
    "    max_count: int = 1\n",
    "    \n",
    "    if len(nums) == 0:\n",
    "        return 0\n",
    "    for i in range(len(a) -1):\n",
    "        if a[i] + 1 == a[i+1]:\n",
    "            count += 1\n",
    "            max_count = max(max_count, count)\n",
    "        else:\n",
    "            count = 1\n",
    "    return max_count\n",
    "longestConsecutive(nums=[1,2,0,1])\n"
   ],
   "id": "af4906c88e9ce68a",
   "outputs": [],
   "execution_count": null
  },
  {
   "metadata": {},
   "cell_type": "markdown",
   "source": "- The optimized one , using set",
   "id": "14f0e98d96c3b509"
  },
  {
   "metadata": {},
   "cell_type": "code",
   "source": [
    "def longestConsecutive2(nums: list[int]) -> int:\n",
    "    longest: int = 0\n",
    "    num_set = set(nums)\n",
    "    length: int = 1\n",
    "    \n",
    "    for n in num_set:\n",
    "        if n- 1 not in num_set:\n",
    "            length = 1\n",
    "        while n + length in num_set:\n",
    "            length += 1\n",
    "        longest = max(longest, length)\n",
    "    return longest\n",
    "\n",
    "longestConsecutive2(nums=[0,-1])\n",
    "\n",
    "# I have kind of memorize it , I won't be having problem in this from now on.\n",
    "            "
   ],
   "id": "a813f761de4898f3",
   "outputs": [],
   "execution_count": null
  },
  {
   "metadata": {},
   "cell_type": "markdown",
   "source": [
    "# NeetCode : Two Pointers Question\n",
    "\n",
    "## NeetCode 9: isPalindrome"
   ],
   "id": "1d92d213bd1cc67f"
  },
  {
   "metadata": {},
   "cell_type": "code",
   "source": [
    "def isPalindrome(s: str) -> bool:\n",
    "    a = \"abcedfghjklzxcvbnmnopqrstuvwxyz0123456789\"\n",
    "    p = []\n",
    "    for char in s:\n",
    "        if char.lower() in a:\n",
    "            p.append(char.lower())\n",
    "    print(p , p[::-1])\n",
    "    return p == p[::-1]\n",
    "        \n",
    "isPalindrome(s=\"Fb Ley'?P:\\\"'I\\\":P?IyeL bF\")\n",
    "\n",
    "#This one fails cause of special character but I will say it was kind of good try"
   ],
   "id": "ccb8ce409f742915",
   "outputs": [],
   "execution_count": null
  },
  {
   "metadata": {},
   "cell_type": "code",
   "source": [
    "def isPalindrome2(s: str) -> bool:\n",
    "    new_str = \"\".join(char.lower() for char in s if char.isalnum())\n",
    "    return new_str == new_str[::-1]\n",
    "\n",
    "isPalindrome2(s=\"Fb Ley'?P:\")\n",
    "# Optimized and passes all the tests"
   ],
   "id": "def807faa9d00fc1",
   "outputs": [],
   "execution_count": null
  }
 ],
 "metadata": {
  "kernelspec": {
   "display_name": "Python 3",
   "language": "python",
   "name": "python3"
  },
  "language_info": {
   "codemirror_mode": {
    "name": "ipython",
    "version": 2
   },
   "file_extension": ".py",
   "mimetype": "text/x-python",
   "name": "python",
   "nbconvert_exporter": "python",
   "pygments_lexer": "ipython2",
   "version": "2.7.6"
  }
 },
 "nbformat": 4,
 "nbformat_minor": 5
}
